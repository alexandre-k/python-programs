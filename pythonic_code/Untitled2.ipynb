{
 "cells": [
  {
   "cell_type": "code",
   "execution_count": 252,
   "metadata": {
    "collapsed": false
   },
   "outputs": [],
   "source": [
    "class User(object):\n",
    "    \n",
    "    def __init__(self, firstname=None, lastname=None, username=None):\n",
    "        self.firstname = firstname\n",
    "        self.lastname = lastname\n",
    "        self.username = username\n",
    "    \n",
    "    @classmethod\n",
    "    def add(cls, user_info):\n",
    "        firstname, lastname, username = user_info\n",
    "        print('Calling subprocess to create', username)\n",
    "        new_user = cls(firstname, lastname, username)\n",
    "        return new_user\n",
    "    \n",
    "    @staticmethod\n",
    "    def parse_strings(username):\n",
    "        cleaned_username = username.lower()\n",
    "        return cleaned_username\n",
    "        \n",
    "        "
   ]
  },
  {
   "cell_type": "code",
   "execution_count": 269,
   "metadata": {
    "collapsed": false
   },
   "outputs": [
    {
     "ename": "ImportError",
     "evalue": "No module named 'User'",
     "output_type": "error",
     "traceback": [
      "\u001b[1;31m---------------------------------------------------------------------------\u001b[0m",
      "\u001b[1;31mImportError\u001b[0m                               Traceback (most recent call last)",
      "\u001b[1;32m<ipython-input-269-494a01d3a0d9>\u001b[0m in \u001b[0;36m<module>\u001b[1;34m()\u001b[0m\n\u001b[1;32m----> 1\u001b[1;33m \u001b[1;32mfrom\u001b[0m \u001b[0mUser\u001b[0m \u001b[1;32mimport\u001b[0m \u001b[0mparse_strings\u001b[0m\u001b[1;33m,\u001b[0m \u001b[0madd\u001b[0m\u001b[1;33m\u001b[0m\u001b[0m\n\u001b[0m\u001b[0;32m      2\u001b[0m \u001b[1;33m\u001b[0m\u001b[0m\n\u001b[0;32m      3\u001b[0m \u001b[0mnew_user\u001b[0m \u001b[1;33m=\u001b[0m \u001b[0mUser\u001b[0m\u001b[1;33m(\u001b[0m\u001b[1;33m)\u001b[0m\u001b[1;33m\u001b[0m\u001b[0m\n\u001b[0;32m      4\u001b[0m \u001b[0musers\u001b[0m \u001b[1;33m=\u001b[0m \u001b[1;33m[\u001b[0m\u001b[1;33m(\u001b[0m\u001b[1;34m'Alexandre'\u001b[0m\u001b[1;33m,\u001b[0m \u001b[1;34m'Krispin'\u001b[0m\u001b[1;33m,\u001b[0m \u001b[1;34m'Alex'\u001b[0m\u001b[1;33m)\u001b[0m\u001b[1;33m,\u001b[0m \u001b[1;33m(\u001b[0m\u001b[1;34m'Banana'\u001b[0m\u001b[1;33m,\u001b[0m \u001b[1;34m'Yoshimoto'\u001b[0m\u001b[1;33m,\u001b[0m \u001b[1;34m'Banana'\u001b[0m\u001b[1;33m)\u001b[0m\u001b[1;33m]\u001b[0m\u001b[1;33m\u001b[0m\u001b[0m\n\u001b[0;32m      5\u001b[0m \u001b[1;32mfor\u001b[0m \u001b[0muser\u001b[0m \u001b[1;32min\u001b[0m \u001b[0musers\u001b[0m\u001b[1;33m:\u001b[0m\u001b[1;33m\u001b[0m\u001b[0m\n",
      "\u001b[1;31mImportError\u001b[0m: No module named 'User'"
     ]
    }
   ],
   "source": [
    "from User import parse_strings, add\n",
    "\n",
    "new_user = User()\n",
    "users = [('Alexandre', 'Krispin', 'Alex'), ('Banana', 'Yoshimoto', 'Banana')]\n",
    "for user in users:\n",
    "    print('Adding user')\n",
    "    username_cleaned = parse_strings(user[2])\n",
    " \n",
    "    new_user = add((user[0], user[1], username_cleaned))\n",
    "    print('Added', new_user.firstname, new_user.lastname, 'with username', new_user.username)\n"
   ]
  }
 ],
 "metadata": {
  "kernelspec": {
   "display_name": "Python 3",
   "language": "python",
   "name": "python3"
  },
  "language_info": {
   "codemirror_mode": {
    "name": "ipython",
    "version": 3
   },
   "file_extension": ".py",
   "mimetype": "text/x-python",
   "name": "python",
   "nbconvert_exporter": "python",
   "pygments_lexer": "ipython3",
   "version": "3.5.2"
  }
 },
 "nbformat": 4,
 "nbformat_minor": 0
}
